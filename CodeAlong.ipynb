{
 "cells": [
  {
   "cell_type": "markdown",
   "id": "545ad8c2",
   "metadata": {},
   "source": [
    "# Import Libraries"
   ]
  },
  {
   "cell_type": "code",
   "execution_count": 3,
   "id": "a3b2293b",
   "metadata": {},
   "outputs": [],
   "source": [
    "import pandas as pd\n",
    "import seaborn as sns\n",
    "import matplotlib.pyplot as plt"
   ]
  },
  {
   "cell_type": "markdown",
   "id": "d583d3b8",
   "metadata": {},
   "source": [
    "# Reading the data"
   ]
  },
  {
   "cell_type": "code",
   "execution_count": 4,
   "id": "47ec1934",
   "metadata": {},
   "outputs": [],
   "source": [
    "df = pd.read_csv('Data/data_science_salary_2021.csv')"
   ]
  },
  {
   "cell_type": "markdown",
   "id": "2bab0638",
   "metadata": {},
   "source": [
    "# Inspect the data"
   ]
  },
  {
   "cell_type": "code",
   "execution_count": 5,
   "id": "03fba5a7",
   "metadata": {},
   "outputs": [
    {
     "data": {
      "text/plain": [
       "<bound method DataFrame.info of      index                                          Job Title  \\\n",
       "0        0                                     Data Scientist   \n",
       "1        1                          Healthcare Data Scientist   \n",
       "2        2                                     Data Scientist   \n",
       "3        3                                     Data Scientist   \n",
       "4        4                                     Data Scientist   \n",
       "..     ...                                                ...   \n",
       "737    950           Sr Scientist, Immuno-Oncology - Oncology   \n",
       "738    951                               Senior Data Engineer   \n",
       "739    952  Project Scientist - Auton Lab, Robotics Institute   \n",
       "740    953                               Data Science Manager   \n",
       "741    955          Research Scientist – Security and Privacy   \n",
       "\n",
       "                 Salary Estimate  \\\n",
       "0     $53K-$91K (Glassdoor est.)   \n",
       "1    $63K-$112K (Glassdoor est.)   \n",
       "2     $80K-$90K (Glassdoor est.)   \n",
       "3     $56K-$97K (Glassdoor est.)   \n",
       "4    $86K-$143K (Glassdoor est.)   \n",
       "..                           ...   \n",
       "737  $58K-$111K (Glassdoor est.)   \n",
       "738  $72K-$133K (Glassdoor est.)   \n",
       "739   $56K-$91K (Glassdoor est.)   \n",
       "740  $95K-$160K (Glassdoor est.)   \n",
       "741  $61K-$126K (Glassdoor est.)   \n",
       "\n",
       "                                       Job Description  Rating  \\\n",
       "0    Data Scientist\\nLocation: Albuquerque, NM\\nEdu...     3.8   \n",
       "1    What You Will Do:\\n\\nI. General Summary\\n\\nThe...     3.4   \n",
       "2    KnowBe4, Inc. is a high growth information sec...     4.8   \n",
       "3    *Organization and Job ID**\\nJob ID: 310709\\n\\n...     3.8   \n",
       "4    Data Scientist\\nAffinity Solutions / Marketing...     2.9   \n",
       "..                                                 ...     ...   \n",
       "737  Site Name: USA - Massachusetts - Cambridge\\nPo...     3.9   \n",
       "738  THE CHALLENGE\\nEventbrite has a world-class da...     4.4   \n",
       "739  The Auton Lab at Carnegie Mellon University is...     2.6   \n",
       "740  Data Science ManagerResponsibilities:\\n\\nOvers...     3.2   \n",
       "741  Returning Candidate? Log back in to the Career...     3.6   \n",
       "\n",
       "                                   Company Name         Location  \\\n",
       "0                        Tecolote Research\\n3.8  Albuquerque, NM   \n",
       "1    University of Maryland Medical System\\n3.4    Linthicum, MD   \n",
       "2                                  KnowBe4\\n4.8   Clearwater, FL   \n",
       "3                                     PNNL\\n3.8     Richland, WA   \n",
       "4                       Affinity Solutions\\n2.9     New York, NY   \n",
       "..                                          ...              ...   \n",
       "737                                    GSK\\n3.9    Cambridge, MA   \n",
       "738                             Eventbrite\\n4.4    Nashville, TN   \n",
       "739         Software Engineering Institute\\n2.6   Pittsburgh, PA   \n",
       "740                           Numeric, LLC\\n3.2    Allentown, PA   \n",
       "741           Riverside Research Institute\\n3.6  Beavercreek, OH   \n",
       "\n",
       "                  Headquarters         Size  Founded  ... tensor hadoop  \\\n",
       "0                   Goleta, CA   501 - 1000     1973  ...      0      0   \n",
       "1                Baltimore, MD       10000+     1984  ...      0      0   \n",
       "2               Clearwater, FL   501 - 1000     2010  ...      0      0   \n",
       "3                 Richland, WA  1001 - 5000     1965  ...      0      0   \n",
       "4                 New York, NY     51 - 200     1998  ...      0      0   \n",
       "..                         ...          ...      ...  ...    ...    ...   \n",
       "737  Brentford, United Kingdom       10000+     1830  ...      0      0   \n",
       "738          San Francisco, CA  1001 - 5000     2006  ...      0      1   \n",
       "739             Pittsburgh, PA   501 - 1000     1984  ...      0      0   \n",
       "740            Chadds Ford, PA       1 - 50       -1  ...      0      0   \n",
       "741              Arlington, VA   501 - 1000     1967  ...      0      0   \n",
       "\n",
       "    tableau bi flink  mongo  google_an    job_title_sim  seniority_by_title  \\\n",
       "0         1  1     0      0          0   data scientist                  na   \n",
       "1         0  0     0      0          0   data scientist                  na   \n",
       "2         0  0     0      0          0   data scientist                  na   \n",
       "3         0  0     0      0          0   data scientist                  na   \n",
       "4         0  0     0      0          0   data scientist                  na   \n",
       "..      ... ..   ...    ...        ...              ...                 ...   \n",
       "737       0  0     0      0          0  other scientist                  sr   \n",
       "738       0  0     0      0          0    data engineer                  sr   \n",
       "739       0  0     0      0          0  other scientist                  na   \n",
       "740       0  0     0      0          0   data scientist                  na   \n",
       "741       0  0     0      0          0  other scientist                  na   \n",
       "\n",
       "     Degree  \n",
       "0         M  \n",
       "1         M  \n",
       "2         M  \n",
       "3        na  \n",
       "4        na  \n",
       "..      ...  \n",
       "737       M  \n",
       "738      na  \n",
       "739       P  \n",
       "740      na  \n",
       "741       M  \n",
       "\n",
       "[742 rows x 42 columns]>"
      ]
     },
     "execution_count": 5,
     "metadata": {},
     "output_type": "execute_result"
    }
   ],
   "source": [
    "df.head()\n",
    "df.info()"
   ]
  },
  {
   "cell_type": "code",
   "execution_count": null,
   "id": "a2958225",
   "metadata": {},
   "outputs": [],
   "source": []
  }
 ],
 "metadata": {
  "kernelspec": {
   "display_name": "Python (dojo-env)",
   "language": "python",
   "name": "dojo-env"
  },
  "language_info": {
   "codemirror_mode": {
    "name": "ipython",
    "version": 3
   },
   "file_extension": ".py",
   "mimetype": "text/x-python",
   "name": "python",
   "nbconvert_exporter": "python",
   "pygments_lexer": "ipython3",
   "version": "3.9.15"
  },
  "toc": {
   "base_numbering": 1,
   "nav_menu": {},
   "number_sections": false,
   "sideBar": true,
   "skip_h1_title": false,
   "title_cell": "Table of Contents",
   "title_sidebar": "Contents",
   "toc_cell": false,
   "toc_position": {},
   "toc_section_display": true,
   "toc_window_display": false
  }
 },
 "nbformat": 4,
 "nbformat_minor": 5
}
